{
 "cells": [
  {
   "cell_type": "code",
   "execution_count": 1,
   "metadata": {},
   "outputs": [
    {
     "data": {
      "text/plain": [
       "(429.1207357469511, 499.00891475547115)"
      ]
     },
     "execution_count": 1,
     "metadata": {},
     "output_type": "execute_result"
    }
   ],
   "source": [
    "import math \n",
    "import matplotlib.pyplot as plt\n",
    "def normal_approximation_to_binomial(n,p):\n",
    "    '''Finds the sigma corresponding to a binomial(n,p)'''\n",
    "    mu=p*n\n",
    "    sigma = math.sqrt(p*(1-p)*n)\n",
    "    return mu, sigma\n",
    "def normal_cdf(x,mu=0,sigma=1):\n",
    "    return(1+math.erf((x-mu) / math.sqrt(2) / sigma / 2))\n",
    "def inverse_cdf(p,mu=0,sigma=1,tolerance=0.00001):\n",
    "    if mu != 0 or sigma !=1:\n",
    "        return mu +sigma * inverse_cdf(p,tolerance=tolerance)\n",
    "    low_z, low_p = -1000,0\n",
    "    hi_z,hi_p = 1000,1\n",
    "    while hi_z - low_z > tolerance:\n",
    "        mid_z = (low_z+hi_z)/ 2 \n",
    "        mid_p = normal_cdf(mid_z)\n",
    "        if mid_p < p: \n",
    "            low_z,low_p=mid_z,mid_p\n",
    "        elif mid_p > p:\n",
    "            hi_z,hi_p = mid_z,mid_p\n",
    "        else:\n",
    "            break\n",
    "    return mid_z\n",
    "mu_o, sigma_o = normal_approximation_to_binomial(1000,0.5)\n",
    "def normal_upper_bound(probability,mu=0,sigma=1):\n",
    "    '''retunrs the z where P(Z <= z) = Probability'''\n",
    "    return inverse_cdf(probability,mu,sigma)\n",
    "def normal_lower_bound(probability,mu=0,sigma=1):\n",
    "    '''retunrs the z where P(Z >= z) = Probability'''\n",
    "    return inverse_cdf(1-probability,mu,sigma)\n",
    "def normal_two_sided_bounds(probability,mu=0,sigma=1):\n",
    "    tail_probability = (1-probability)/2 \n",
    "    upper_bound = normal_lower_bound(tail_probability, mu, sigma)\n",
    "    lower_bound = normal_upper_bound(tail_probability, mu, sigma)\n",
    "    return lower_bound,upper_bound\n",
    "normal_two_sided_bounds(0.95,mu_o,sigma_o)"
   ]
  },
  {
   "cell_type": "code",
   "execution_count": 9,
   "metadata": {},
   "outputs": [
    {
     "data": {
      "text/plain": [
       "<matplotlib.legend.Legend at 0x7fd781482a30>"
      ]
     },
     "execution_count": 9,
     "metadata": {},
     "output_type": "execute_result"
    },
    {
     "data": {
      "image/png": "[encoded data removed]",
      "text/plain": [
       "<Figure size 432x288 with 1 Axes>"
      ]
     },
     "metadata": {
      "needs_background": "light"
     },
     "output_type": "display_data"
    }
   ],
   "source": [
    "######## Bayesian Inference #####\n",
    "xs = [x / 10.0 for x in range(-50,50)]\n",
    "def B(alpha,beta):\n",
    "    return math.gamma(alpha)*math.gamma(beta)/ math.gamma(alpha+beta)\n",
    "def beta_pdf(x,alpha,beta):\n",
    "    if x < 0 or x > 1:\n",
    "        return 0\n",
    "    return x**(alpha - 1) * (1 - x)**(beta - 1)/ B(alpha,beta)\n",
    "plt.plot(xs,[beta_pdf(x,alpha = 10, beta = 27) for x in xs],'r-',label='alpha = 1, beta = 1')\n",
    "# plt.plot(xs,[beta_pdf(x,alpha = 1, beta = 2) for x in xs],'y--',label='alpha = 1, beta = 2')\n",
    "# plt.plot(xs,[beta_pdf(x,alpha = 2, beta = 1) for x in xs],'b:',label='alpha = 2, beta = 1')\n",
    "# plt.plot(xs,[beta_pdf(x,alpha = 10, beta = 1) for x in xs],'k',label='alpha = 5, beta = 0')\n",
    "# plt.plot(xs,[beta_pdf(x,alpha = 1, beta = 10) for x in xs],'p-',label='alpha = 0, beta = 5')\n",
    "plt.legend()\n"
   ]
  },
  {
   "cell_type": "code",
   "execution_count": null,
   "metadata": {},
   "outputs": [],
   "source": []
  }
 ],
 "metadata": {
  "kernelspec": {
   "display_name": "Python 3",
   "language": "python",
   "name": "python3"
  },
  "language_info": {
   "codemirror_mode": {
    "name": "ipython",
    "version": 3
   },
   "file_extension": ".py",
   "mimetype": "text/x-python",
   "name": "python",
   "nbconvert_exporter": "python",
   "pygments_lexer": "ipython3",
   "version": "3.8.5"
  }
 },
 "nbformat": 4,
 "nbformat_minor": 2
}
