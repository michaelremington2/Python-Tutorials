{
 "cells": [
  {
   "cell_type": "code",
   "execution_count": 1,
   "metadata": {},
   "outputs": [],
   "source": [
    "#Gradient descent is a tool that minimizes the error of a model or maximizes the likelyhood of the data\n",
    "#represents the solution to an optimization problem\n",
    "\n",
    "def sum_of_squares(v):\n",
    "    '''computes the sum of squared elements in v'''\n",
    "    return sum(v_i ** 2 for v_i in v)\n",
    "\n",
    "# Our goal is to find the input of v that maximizes or min such functions\n",
    "# a gradient is a vector of partial derivatives\n",
    "# this process is pretty much similar to a mcmc\n",
    "\n",
    "def difference_quotient(f, x, h):\n",
    "    return (f(x + h) - f(x))/h\n",
    "# limit as h approaches 0\n",
    "\n",
    "def square(x):\n",
    "    return x**2\n",
    "\n",
    "def derivative(x):\n",
    "    return 2*x"
   ]
  },
  {
   "cell_type": "code",
   "execution_count": 9,
   "metadata": {},
   "outputs": [
    {
     "ename": "TypeError",
     "evalue": "unsupported operand type(s) for ** or pow(): 'range' and 'int'",
     "output_type": "error",
     "traceback": [
      "\u001b[0;31m---------------------------------------------------------------------------\u001b[0m",
      "\u001b[0;31mTypeError\u001b[0m                                 Traceback (most recent call last)",
      "\u001b[0;32m<ipython-input-9-0175515cded1>\u001b[0m in \u001b[0;36m<module>\u001b[0;34m\u001b[0m\n\u001b[1;32m     11\u001b[0m \u001b[0;34m\u001b[0m\u001b[0m\n\u001b[1;32m     12\u001b[0m \u001b[0mx\u001b[0m \u001b[0;34m=\u001b[0m \u001b[0mrange\u001b[0m\u001b[0;34m(\u001b[0m\u001b[0;34m-\u001b[0m\u001b[0;36m10\u001b[0m\u001b[0;34m,\u001b[0m\u001b[0;36m10\u001b[0m\u001b[0;34m)\u001b[0m\u001b[0;34m\u001b[0m\u001b[0;34m\u001b[0m\u001b[0m\n\u001b[0;32m---> 13\u001b[0;31m \u001b[0mplt\u001b[0m\u001b[0;34m.\u001b[0m\u001b[0mplot\u001b[0m\u001b[0;34m(\u001b[0m\u001b[0mx\u001b[0m\u001b[0;34m,\u001b[0m \u001b[0mmap\u001b[0m\u001b[0;34m(\u001b[0m\u001b[0mestimate_gradient\u001b[0m\u001b[0;34m,\u001b[0m\u001b[0mx\u001b[0m\u001b[0;34m**\u001b[0m\u001b[0;36m3\u001b[0m\u001b[0;34m,\u001b[0m\u001b[0mx\u001b[0m\u001b[0;34m)\u001b[0m\u001b[0;34m)\u001b[0m\u001b[0;34m\u001b[0m\u001b[0;34m\u001b[0m\u001b[0m\n\u001b[0m",
      "\u001b[0;31mTypeError\u001b[0m: unsupported operand type(s) for ** or pow(): 'range' and 'int'"
     ]
    }
   ],
   "source": [
    "import matplotlib.pyplot as plt \n",
    "def partial_difference_quotient(f,v,i,h):\n",
    "    \"\"\"Compute the ith partial difference quotent of f at v\"\"\"\n",
    "    w = [v_j + (h if j == i else 0)\n",
    "         for j,v_j in enumerate(v)]\n",
    "    return(f(w) - f(v))/h\n",
    "\n",
    "def estimate_gradient(f,v,h=0.0001):\n",
    "    return [partial_difference_quotient(f,v,i,h)\n",
    "           for i,_ in enumerate(v)]\n",
    "\n",
    "x = range(-10,10)\n",
    "plt.plot(x, map(estimate_gradient,x**3,x))\n"
   ]
  },
  {
   "cell_type": "code",
   "execution_count": null,
   "metadata": {},
   "outputs": [],
   "source": []
  }
 ],
 "metadata": {
  "kernelspec": {
   "display_name": "Python 3",
   "language": "python",
   "name": "python3"
  },
  "language_info": {
   "codemirror_mode": {
    "name": "ipython",
    "version": 3
   },
   "file_extension": ".py",
   "mimetype": "text/x-python",
   "name": "python",
   "nbconvert_exporter": "python",
   "pygments_lexer": "ipython3",
   "version": "3.8.5"
  }
 },
 "nbformat": 4,
 "nbformat_minor": 4
}
